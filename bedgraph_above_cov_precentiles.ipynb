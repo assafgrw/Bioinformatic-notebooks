{
 "cells": [
  {
   "cell_type": "code",
   "execution_count": 3,
   "metadata": {},
   "outputs": [],
   "source": [
    "import pandas as pd\n",
    "pd.options.mode.chained_assignment = None\n",
    "#Read xmap file into dataframe and trasfer relevant arguments to bedfile\n",
    "naked=pd.read_csv(r\"C:\\Users\\Assaf\\Documents\\postdoctoral TAU\\Naked_xmap_filter_17_60_min.conf.17.min.alignment.60.BEDGRAPH\", sep='\\t', header=None)\n",
    "naked15=naked.loc[naked[0]=='chr15']\n",
    "naked15.head()\n",
    "naked15.to_csv(r\"C:\\Users\\Assaf\\Documents\\postdoctoral TAU\\Naked_xmap_filter_17_60_min.conf.17.min.alignment.60_chr15.BEDGRAPH\", index=False, header=False, sep='\\t')\n"
   ]
  },
  {
   "cell_type": "code",
   "execution_count": 5,
   "metadata": {},
   "outputs": [
    {
     "data": {
      "text/plain": [
       "<AxesSubplot:>"
      ]
     },
     "execution_count": 5,
     "metadata": {},
     "output_type": "execute_result"
    },
    {
     "data": {
      "image/png": "[encoded data removed]",
      "text/plain": [
       "<Figure size 432x288 with 1 Axes>"
      ]
     },
     "metadata": {
      "needs_background": "light"
     },
     "output_type": "display_data"
    }
   ],
   "source": [
    "naked15[3].hist()"
   ]
  },
  {
   "cell_type": "code",
   "execution_count": 15,
   "metadata": {},
   "outputs": [],
   "source": [
    "prec=naked15[3].describe(percentiles=[0.1, 0.2, 0.3, 0.5,0.6,0.7,0.8,0.9])\n",
    "prec.to_csv(r\"C:\\Users\\Assaf\\Documents\\postdoctoral TAU\\Naked_chr15_cov_percentiles.csv\", index=True, header=True, sep=',')\n"
   ]
  },
  {
   "cell_type": "code",
   "execution_count": 18,
   "metadata": {},
   "outputs": [],
   "source": [
    "above_thresh=naked15.loc[naked15[3]>55]\n",
    "above_thresh.to_csv(r\"C:\\Users\\Assaf\\Documents\\postdoctoral TAU\\Naked_chr15_cov_above_90_prec.BEDGRAPH\", index=False, header=False, sep='\\t')\n"
   ]
  }
 ],
 "metadata": {
  "kernelspec": {
   "display_name": "Python 3",
   "language": "python",
   "name": "python3"
  },
  "language_info": {
   "codemirror_mode": {
    "name": "ipython",
    "version": 3
   },
   "file_extension": ".py",
   "mimetype": "text/x-python",
   "name": "python",
   "nbconvert_exporter": "python",
   "pygments_lexer": "ipython3",
   "version": "3.7.9"
  }
 },
 "nbformat": 4,
 "nbformat_minor": 4
}
